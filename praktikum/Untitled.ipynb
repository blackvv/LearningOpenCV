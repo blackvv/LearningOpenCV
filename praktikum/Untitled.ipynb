{
 "cells": [
  {
   "cell_type": "markdown",
   "id": "f042f4f9",
   "metadata": {},
   "source": [
    "# Image formation and pinhole camera model\n",
    "Copyright information\n",
    "© Faisal Qureshi\n",
    "http://csundergrad.science.uoit.ca/courses/cv-notes/notebooks/01-image-formation.html\n",
    "\n",
    "Proof\n",
    "If line  ax+by+c=0  satisfies points  (x1,y1)  and  (x2,y2)  then the following must be true\n",
    "\n",
    "ax1+by1+c=0\n",
    "ax2+by2+c=0"
   ]
  },
  {
   "cell_type": "code",
   "execution_count": 1,
   "id": "a0fd1a51",
   "metadata": {},
   "outputs": [],
   "source": [
    "import numpy as np\n",
    "import math\n",
    "from scipy import linalg"
   ]
  }
 ],
 "metadata": {
  "kernelspec": {
   "display_name": "Python 3",
   "language": "python",
   "name": "python3"
  },
  "language_info": {
   "codemirror_mode": {
    "name": "ipython",
    "version": 3
   },
   "file_extension": ".py",
   "mimetype": "text/x-python",
   "name": "python",
   "nbconvert_exporter": "python",
   "pygments_lexer": "ipython3",
   "version": "3.8.8"
  }
 },
 "nbformat": 4,
 "nbformat_minor": 5
}
